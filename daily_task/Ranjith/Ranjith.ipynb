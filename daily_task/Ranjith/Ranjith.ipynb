{
  "nbformat": 4,
  "nbformat_minor": 0,
  "metadata": {
    "colab": {
      "name": "Copy of Ranjith.ipynb",
      "provenance": [],
      "collapsed_sections": [],
      "authorship_tag": "ABX9TyNhhN1SrmOkGeKRAbPtOxT5",
      "include_colab_link": true
    },
    "kernelspec": {
      "name": "python3",
      "display_name": "Python 3"
    }
  },
  "cells": [
    {
      "cell_type": "markdown",
      "metadata": {
        "id": "view-in-github",
        "colab_type": "text"
      },
      "source": [
        "<a href=\"https://colab.research.google.com/github/offmannn/tinkerhub-pytorch-task/blob/master/daily_task/Ranjith/Ranjith.ipynb\" target=\"_parent\"><img src=\"https://colab.research.google.com/assets/colab-badge.svg\" alt=\"Open In Colab\"/></a>"
      ]
    },
    {
      "cell_type": "code",
      "metadata": {
        "id": "MKSmh4ISNpsz",
        "colab_type": "code",
        "colab": {}
      },
      "source": [
        "import torch\n",
        "import numpy as np"
      ],
      "execution_count": 0,
      "outputs": []
    },
    {
      "cell_type": "code",
      "metadata": {
        "id": "p2rMb2kPUYV5",
        "colab_type": "code",
        "outputId": "86bd996d-2708-407d-e430-0aa9566fa5ec",
        "colab": {
          "base_uri": "https://localhost:8080/",
          "height": 175
        }
      },
      "source": [
        "q=np.random.rand(5,3)\n",
        "print(q)\n",
        "w=np.random.rand(3,4)\n",
        "print(w)"
      ],
      "execution_count": 0,
      "outputs": [
        {
          "output_type": "stream",
          "text": [
            "[[0.65072886 0.22845178 0.37238782]\n",
            " [0.02598699 0.2367949  0.32273151]\n",
            " [0.89165286 0.87121422 0.42468716]\n",
            " [0.53881627 0.73737358 0.39073533]\n",
            " [0.0239398  0.25109741 0.79745952]]\n",
            "[[0.19169847 0.06496339 0.05681413 0.06623118]\n",
            " [0.23049396 0.48585222 0.14580906 0.70743965]\n",
            " [0.69193729 0.12576003 0.02682567 0.65850077]]\n"
          ],
          "name": "stdout"
        }
      ]
    },
    {
      "cell_type": "code",
      "metadata": {
        "id": "mImmmTrQVC_s",
        "colab_type": "code",
        "outputId": "37798ad8-caa9-4a4f-b8d2-2246879ae9b9",
        "colab": {
          "base_uri": "https://localhost:8080/",
          "height": 210
        }
      },
      "source": [
        "e=torch.from_numpy(q)\n",
        "e.mul_(0);e.add_(2)\n",
        "print(e)\n",
        "print(q)"
      ],
      "execution_count": 0,
      "outputs": [
        {
          "output_type": "stream",
          "text": [
            "tensor([[2., 2., 2.],\n",
            "        [2., 2., 2.],\n",
            "        [2., 2., 2.],\n",
            "        [2., 2., 2.],\n",
            "        [2., 2., 2.]], dtype=torch.float64)\n",
            "[[2. 2. 2.]\n",
            " [2. 2. 2.]\n",
            " [2. 2. 2.]\n",
            " [2. 2. 2.]\n",
            " [2. 2. 2.]]\n"
          ],
          "name": "stdout"
        }
      ]
    },
    {
      "cell_type": "code",
      "metadata": {
        "id": "GVqQuZZRV2zW",
        "colab_type": "code",
        "outputId": "0fb1bef3-8040-44f5-cf34-d10c29d0e323",
        "colab": {
          "base_uri": "https://localhost:8080/",
          "height": 141
        }
      },
      "source": [
        "r=torch.tensor(w)\n",
        "r.mul_(0);r.add_(2)\n",
        "print(r)\n",
        "print(w)"
      ],
      "execution_count": 0,
      "outputs": [
        {
          "output_type": "stream",
          "text": [
            "tensor([[2., 2., 2., 2.],\n",
            "        [2., 2., 2., 2.],\n",
            "        [2., 2., 2., 2.]], dtype=torch.float64)\n",
            "[[0.19169847 0.06496339 0.05681413 0.06623118]\n",
            " [0.23049396 0.48585222 0.14580906 0.70743965]\n",
            " [0.69193729 0.12576003 0.02682567 0.65850077]]\n"
          ],
          "name": "stdout"
        }
      ]
    },
    {
      "cell_type": "code",
      "metadata": {
        "id": "hC-8TZAJWGHE",
        "colab_type": "code",
        "outputId": "33e77434-9b11-4e70-8bfd-67decd36a1b4",
        "colab": {
          "base_uri": "https://localhost:8080/",
          "height": 123
        }
      },
      "source": [
        "y=np.matmul(q,r)\n",
        "y"
      ],
      "execution_count": 0,
      "outputs": [
        {
          "output_type": "execute_result",
          "data": {
            "text/plain": [
              "tensor([[12., 12., 12., 12.],\n",
              "        [12., 12., 12., 12.],\n",
              "        [12., 12., 12., 12.],\n",
              "        [12., 12., 12., 12.],\n",
              "        [12., 12., 12., 12.]], dtype=torch.float64)"
            ]
          },
          "metadata": {
            "tags": []
          },
          "execution_count": 118
        }
      ]
    },
    {
      "cell_type": "code",
      "metadata": {
        "id": "Z5jVWgfpYUzz",
        "colab_type": "code",
        "outputId": "698d2b6b-336f-473c-ab2c-e6bc42bc83ad",
        "colab": {
          "base_uri": "https://localhost:8080/",
          "height": 123
        }
      },
      "source": [
        "z=torch.matmul(e,r)\n",
        "z"
      ],
      "execution_count": 0,
      "outputs": [
        {
          "output_type": "execute_result",
          "data": {
            "text/plain": [
              "tensor([[12., 12., 12., 12.],\n",
              "        [12., 12., 12., 12.],\n",
              "        [12., 12., 12., 12.],\n",
              "        [12., 12., 12., 12.],\n",
              "        [12., 12., 12., 12.]], dtype=torch.float64)"
            ]
          },
          "metadata": {
            "tags": []
          },
          "execution_count": 125
        }
      ]
    },
    {
      "cell_type": "code",
      "metadata": {
        "id": "v8iknHx4bY8b",
        "colab_type": "code",
        "outputId": "59c48aaa-98ab-4916-acf8-66d9dcb10f08",
        "colab": {
          "base_uri": "https://localhost:8080/",
          "height": 34
        }
      },
      "source": [
        "type(r)"
      ],
      "execution_count": 0,
      "outputs": [
        {
          "output_type": "execute_result",
          "data": {
            "text/plain": [
              "torch.Tensor"
            ]
          },
          "metadata": {
            "tags": []
          },
          "execution_count": 123
        }
      ]
    },
    {
      "cell_type": "code",
      "metadata": {
        "id": "CkuhfCgXcN66",
        "colab_type": "code",
        "outputId": "8b01fbe3-9767-4ba4-92fe-29c9cd798159",
        "colab": {
          "base_uri": "https://localhost:8080/",
          "height": 34
        }
      },
      "source": [
        "type(q)"
      ],
      "execution_count": 0,
      "outputs": [
        {
          "output_type": "execute_result",
          "data": {
            "text/plain": [
              "numpy.ndarray"
            ]
          },
          "metadata": {
            "tags": []
          },
          "execution_count": 124
        }
      ]
    }
  ]
}